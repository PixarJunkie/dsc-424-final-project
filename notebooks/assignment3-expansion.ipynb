{
 "cells": [
  {
   "cell_type": "code",
   "execution_count": null,
   "metadata": {},
   "outputs": [],
   "source": [
    "#Import packages\n",
    "import pandas as pd\n",
    "import os \n",
    "import numpy as np \n",
    "import matplotlib.pyplot as plt\n",
    "import statsmodels.api as sm\n",
    "import scipy.stats as stats\n",
    "from scipy.special import boxcox1p\n",
    "import seaborn as sns\n",
    "import warnings\n",
    "from math import sqrt\n",
    "import pylab\n",
    "from sklearn.linear_model import Lasso, Ridge\n",
    "from sklearn.cross_validation import train_test_split\n",
    "from sklearn.model_selection import GridSearchCV\n",
    "from sklearn.metrics import mean_squared_error\n",
    "\n",
    "%matplotlib inline\n",
    "warnings.filterwarnings('ignore')"
   ]
  },
  {
   "cell_type": "code",
   "execution_count": null,
   "metadata": {},
   "outputs": [],
   "source": [
    "#Import data\n",
    "song_data = pd.read_csv(r'https://raw.githubusercontent.com/PixarJunkie/dsc-424-final-project/master/data/song_data.csv')\n",
    "song_info = pd.read_csv(r'https://raw.githubusercontent.com/PixarJunkie/dsc-424-final-project/master/data/song_info.csv')\n",
    "\n",
    "#Shape of data\n",
    "print('song_data shape: ' + str(song_data.shape))\n",
    "print('sing_info shape: ' + str(song_info.shape))"
   ]
  },
  {
   "cell_type": "code",
   "execution_count": null,
   "metadata": {},
   "outputs": [],
   "source": [
    "#Columns\n",
    "print('song_data columns: ' + str(list(song_data.columns)))\n",
    "print('song_info columns: ' + str(list(song_info.columns))) "
   ]
  },
  {
   "cell_type": "code",
   "execution_count": null,
   "metadata": {},
   "outputs": [],
   "source": [
    "#Convert song_duration\n",
    "song_data['song_duration_min'] = (song_data.song_duration_ms/1000)/60\n",
    "song_data.drop(columns = ['song_name', 'song_duration_ms'], inplace = True)"
   ]
  },
  {
   "cell_type": "markdown",
   "metadata": {},
   "source": [
    "# Boxcox Transform"
   ]
  },
  {
   "cell_type": "code",
   "execution_count": null,
   "metadata": {},
   "outputs": [],
   "source": [
    "#Boxcox Transform\n",
    "cols_ = ['acousticness', 'instrumentalness', 'time_signature', 'song_duration_min', 'speechiness']\n",
    "for col in cols_:\n",
    "    if song_data[col].min() == 0: \n",
    "        song_data[col] = song_data[col] + 0.000001\n",
    "    song_data[col] = stats.boxcox(song_data[col])[0]"
   ]
  },
  {
   "cell_type": "code",
   "execution_count": null,
   "metadata": {},
   "outputs": [],
   "source": [
    "song_data.describe()"
   ]
  },
  {
   "cell_type": "markdown",
   "metadata": {},
   "source": [
    "# Train-test split"
   ]
  },
  {
   "cell_type": "code",
   "execution_count": null,
   "metadata": {},
   "outputs": [],
   "source": [
    "#Training and test sets\n",
    "X = song_data.drop('song_popularity', axis = 1)\n",
    "y = song_data.song_popularity\n",
    "\n",
    "X_train, X_test, y_train, y_test = train_test_split(X, y, test_size = 0.3, random_state = 23)\n",
    "print('X_train shape: ' + str(X_train.shape))\n",
    "print('y_train shape: ' + str(y_train.shape))\n",
    "print('X_test shape: ' + str(X_test.shape))\n",
    "print('y_test shape: ' + str(y_test.shape))"
   ]
  },
  {
   "cell_type": "markdown",
   "metadata": {},
   "source": [
    "# Lasso Regression"
   ]
  },
  {
   "cell_type": "code",
   "execution_count": null,
   "metadata": {},
   "outputs": [],
   "source": [
    "#Model definition\n",
    "lasso_ = Lasso(max_iter = 1000)\n",
    "\n",
    "lasso_params = {'alpha': [1e-15, 1e-10, 1e-8, 1e-5,1e-4, 1e-3,1e-2, 1, 5, 10]}\n",
    "\n",
    "#Gridsearch cross-validation \n",
    "lasso_model = GridSearchCV(lasso_, param_grid = lasso_params, scoring = 'neg_mean_squared_error', cv = 5)\n",
    "lasso_model.fit(X_train, y_train)\n",
    "lasso_preds_train = lasso_model.predict(X_train)\n",
    "lasso_preds_test = lasso_model.predict(X_test)"
   ]
  },
  {
   "cell_type": "code",
   "execution_count": null,
   "metadata": {},
   "outputs": [],
   "source": [
    "#Best Params/score\n",
    "print('Best Params: ' + str(lasso_model.best_params_))\n",
    "print('Best Score: ' + str(abs(lasso_model.best_score_)))"
   ]
  },
  {
   "cell_type": "code",
   "execution_count": null,
   "metadata": {},
   "outputs": [],
   "source": [
    "#Train probability Plot\n",
    "lasso_res = y_train - lasso_preds_train\n",
    "measurements = np.random.normal(loc = 20, scale = 5, size=100)   \n",
    "stats.probplot(res, dist=\"norm\", plot=pylab)\n",
    "pylab.show()"
   ]
  },
  {
   "cell_type": "code",
   "execution_count": null,
   "metadata": {},
   "outputs": [],
   "source": [
    "#Prediction on test set/plot predicted vs. actuals\n",
    "plt.scatter(y_test, lasso_preds_test)\n",
    "plt.xlabel('Actuals')\n",
    "plt.ylabel('Predicted')\n",
    "#Train RMSE\n",
    "train_rmse = sqrt(mean_squared_error(y_train, lasso_preds_train))\n",
    "#Test RMSE\n",
    "test_rmse = sqrt(mean_squared_error(y_test, lasso_preds_test)) \n",
    "print('Train Root Mean Square Error: ' + str(train_rmse))\n",
    "print('Test Root Mean Square Error: ' + str(test_rmse))"
   ]
  }
 ],
 "metadata": {
  "kernelspec": {
   "display_name": "Python 3",
   "language": "python",
   "name": "python3"
  },
  "language_info": {
   "codemirror_mode": {
    "name": "ipython",
    "version": 3
   },
   "file_extension": ".py",
   "mimetype": "text/x-python",
   "name": "python",
   "nbconvert_exporter": "python",
   "pygments_lexer": "ipython3",
   "version": "3.7.0"
  }
 },
 "nbformat": 4,
 "nbformat_minor": 2
}
