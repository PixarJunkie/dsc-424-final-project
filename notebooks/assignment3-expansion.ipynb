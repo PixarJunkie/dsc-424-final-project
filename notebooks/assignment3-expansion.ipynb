{
 "cells": [
  {
   "cell_type": "code",
   "execution_count": 1,
   "metadata": {},
   "outputs": [
    {
     "name": "stderr",
     "output_type": "stream",
     "text": [
      "C:\\Users\\Luxo_Jr\\AppData\\Local\\Continuum\\lib\\site-packages\\sklearn\\cross_validation.py:41: DeprecationWarning: This module was deprecated in version 0.18 in favor of the model_selection module into which all the refactored classes and functions are moved. Also note that the interface of the new CV iterators are different from that of this module. This module will be removed in 0.20.\n",
      "  \"This module will be removed in 0.20.\", DeprecationWarning)\n"
     ]
    }
   ],
   "source": [
    "#Import packages\n",
    "import pandas as pd\n",
    "import os \n",
    "import numpy as np \n",
    "import matplotlib.pyplot as plt\n",
    "import statsmodels.api as sm\n",
    "import scipy.stats as stats\n",
    "from scipy.special import boxcox1p\n",
    "import seaborn as sns\n",
    "import warnings\n",
    "from math import sqrt\n",
    "import pylab\n",
    "from sklearn.linear_model import Lasso, Ridge\n",
    "from sklearn.cross_validation import train_test_split\n",
    "from sklearn.model_selection import GridSearchCV\n",
    "from sklearn.metrics import mean_squared_error\n",
    "\n",
    "%matplotlib inline\n",
    "warnings.filterwarnings('ignore')"
   ]
  },
  {
   "cell_type": "code",
   "execution_count": 2,
   "metadata": {},
   "outputs": [
    {
     "name": "stdout",
     "output_type": "stream",
     "text": [
      "song_data shape: (18835, 15)\n",
      "sing_info shape: (18835, 4)\n"
     ]
    }
   ],
   "source": [
    "#Import data\n",
    "song_data = pd.read_csv(r'https://raw.githubusercontent.com/PixarJunkie/dsc-424-final-project/master/data/song_data.csv')\n",
    "song_info = pd.read_csv(r'https://raw.githubusercontent.com/PixarJunkie/dsc-424-final-project/master/data/song_info.csv')\n",
    "\n",
    "#Shape of data\n",
    "print('song_data shape: ' + str(song_data.shape))\n",
    "print('sing_info shape: ' + str(song_info.shape))"
   ]
  },
  {
   "cell_type": "code",
   "execution_count": 3,
   "metadata": {},
   "outputs": [
    {
     "name": "stdout",
     "output_type": "stream",
     "text": [
      "song_data columns: ['song_name', 'song_popularity', 'song_duration_ms', 'acousticness', 'danceability', 'energy', 'instrumentalness', 'key', 'liveness', 'loudness', 'audio_mode', 'speechiness', 'tempo', 'time_signature', 'audio_valence']\n",
      "song_info columns: ['song_name', 'artist_name', 'album_names', 'playlist']\n"
     ]
    }
   ],
   "source": [
    "#Columns\n",
    "print('song_data columns: ' + str(list(song_data.columns)))\n",
    "print('song_info columns: ' + str(list(song_info.columns))) "
   ]
  },
  {
   "cell_type": "code",
   "execution_count": 4,
   "metadata": {},
   "outputs": [],
   "source": [
    "#Convert song_duration\n",
    "song_data['song_duration_min'] = (song_data.song_duration_ms/1000)/60\n",
    "song_data.drop(columns = ['song_name', 'song_duration_ms'], inplace = True)"
   ]
  },
  {
   "cell_type": "markdown",
   "metadata": {},
   "source": [
    "# Boxcox Transform"
   ]
  },
  {
   "cell_type": "code",
   "execution_count": 5,
   "metadata": {},
   "outputs": [],
   "source": [
    "#Boxcox Transform\n",
    "cols_ = ['acousticness', 'instrumentalness', 'time_signature', 'song_duration_min', 'speechiness']\n",
    "for col in cols_:\n",
    "    if song_data[col].min() == 0: \n",
    "        song_data[col] = song_data[col] + 0.000001\n",
    "    song_data[col] = stats.boxcox(song_data[col])[0]"
   ]
  },
  {
   "cell_type": "code",
   "execution_count": 6,
   "metadata": {},
   "outputs": [
    {
     "data": {
      "text/html": [
       "<div>\n",
       "<style scoped>\n",
       "    .dataframe tbody tr th:only-of-type {\n",
       "        vertical-align: middle;\n",
       "    }\n",
       "\n",
       "    .dataframe tbody tr th {\n",
       "        vertical-align: top;\n",
       "    }\n",
       "\n",
       "    .dataframe thead th {\n",
       "        text-align: right;\n",
       "    }\n",
       "</style>\n",
       "<table border=\"1\" class=\"dataframe\">\n",
       "  <thead>\n",
       "    <tr style=\"text-align: right;\">\n",
       "      <th></th>\n",
       "      <th>song_popularity</th>\n",
       "      <th>acousticness</th>\n",
       "      <th>danceability</th>\n",
       "      <th>energy</th>\n",
       "      <th>instrumentalness</th>\n",
       "      <th>key</th>\n",
       "      <th>liveness</th>\n",
       "      <th>loudness</th>\n",
       "      <th>audio_mode</th>\n",
       "      <th>speechiness</th>\n",
       "      <th>tempo</th>\n",
       "      <th>time_signature</th>\n",
       "      <th>audio_valence</th>\n",
       "      <th>song_duration_min</th>\n",
       "    </tr>\n",
       "  </thead>\n",
       "  <tbody>\n",
       "    <tr>\n",
       "      <th>count</th>\n",
       "      <td>18835.000000</td>\n",
       "      <td>18835.000000</td>\n",
       "      <td>18835.000000</td>\n",
       "      <td>18835.000000</td>\n",
       "      <td>18835.000000</td>\n",
       "      <td>18835.000000</td>\n",
       "      <td>18835.000000</td>\n",
       "      <td>18835.000000</td>\n",
       "      <td>18835.000000</td>\n",
       "      <td>18835.000000</td>\n",
       "      <td>18835.000000</td>\n",
       "      <td>18835.000000</td>\n",
       "      <td>18835.000000</td>\n",
       "      <td>18835.000000</td>\n",
       "    </tr>\n",
       "    <tr>\n",
       "      <th>mean</th>\n",
       "      <td>52.991877</td>\n",
       "      <td>-1.648372</td>\n",
       "      <td>0.633348</td>\n",
       "      <td>0.644995</td>\n",
       "      <td>-21.708490</td>\n",
       "      <td>5.289196</td>\n",
       "      <td>0.179650</td>\n",
       "      <td>-7.447435</td>\n",
       "      <td>0.628139</td>\n",
       "      <td>-2.893215</td>\n",
       "      <td>121.073154</td>\n",
       "      <td>39.306755</td>\n",
       "      <td>0.527967</td>\n",
       "      <td>1.346259</td>\n",
       "    </tr>\n",
       "    <tr>\n",
       "      <th>std</th>\n",
       "      <td>21.905654</td>\n",
       "      <td>1.029770</td>\n",
       "      <td>0.156723</td>\n",
       "      <td>0.214101</td>\n",
       "      <td>13.468143</td>\n",
       "      <td>3.614595</td>\n",
       "      <td>0.143984</td>\n",
       "      <td>3.827831</td>\n",
       "      <td>0.483314</td>\n",
       "      <td>0.930344</td>\n",
       "      <td>28.714456</td>\n",
       "      <td>7.970242</td>\n",
       "      <td>0.244632</td>\n",
       "      <td>0.289508</td>\n",
       "    </tr>\n",
       "    <tr>\n",
       "      <th>min</th>\n",
       "      <td>0.000000</td>\n",
       "      <td>-3.958525</td>\n",
       "      <td>0.000000</td>\n",
       "      <td>0.001070</td>\n",
       "      <td>-35.674188</td>\n",
       "      <td>0.000000</td>\n",
       "      <td>0.010900</td>\n",
       "      <td>-38.768000</td>\n",
       "      <td>0.000000</td>\n",
       "      <td>-21.814146</td>\n",
       "      <td>0.000000</td>\n",
       "      <td>-0.278891</td>\n",
       "      <td>0.000000</td>\n",
       "      <td>-1.484638</td>\n",
       "    </tr>\n",
       "    <tr>\n",
       "      <th>25%</th>\n",
       "      <td>40.000000</td>\n",
       "      <td>-2.447523</td>\n",
       "      <td>0.533000</td>\n",
       "      <td>0.510000</td>\n",
       "      <td>-35.674188</td>\n",
       "      <td>2.000000</td>\n",
       "      <td>0.092900</td>\n",
       "      <td>-9.044000</td>\n",
       "      <td>0.000000</td>\n",
       "      <td>-3.630221</td>\n",
       "      <td>98.368000</td>\n",
       "      <td>39.918617</td>\n",
       "      <td>0.335000</td>\n",
       "      <td>1.188999</td>\n",
       "    </tr>\n",
       "    <tr>\n",
       "      <th>50%</th>\n",
       "      <td>56.000000</td>\n",
       "      <td>-1.598013</td>\n",
       "      <td>0.645000</td>\n",
       "      <td>0.674000</td>\n",
       "      <td>-24.142955</td>\n",
       "      <td>5.000000</td>\n",
       "      <td>0.122000</td>\n",
       "      <td>-6.555000</td>\n",
       "      <td>1.000000</td>\n",
       "      <td>-3.165581</td>\n",
       "      <td>120.013000</td>\n",
       "      <td>39.918617</td>\n",
       "      <td>0.527000</td>\n",
       "      <td>1.343101</td>\n",
       "    </tr>\n",
       "    <tr>\n",
       "      <th>75%</th>\n",
       "      <td>69.000000</td>\n",
       "      <td>-0.774195</td>\n",
       "      <td>0.748000</td>\n",
       "      <td>0.815000</td>\n",
       "      <td>-8.737671</td>\n",
       "      <td>8.000000</td>\n",
       "      <td>0.221000</td>\n",
       "      <td>-4.908000</td>\n",
       "      <td>1.000000</td>\n",
       "      <td>-2.274877</td>\n",
       "      <td>139.931000</td>\n",
       "      <td>39.918617</td>\n",
       "      <td>0.725000</td>\n",
       "      <td>1.502336</td>\n",
       "    </tr>\n",
       "    <tr>\n",
       "      <th>max</th>\n",
       "      <td>100.000000</td>\n",
       "      <td>-0.004006</td>\n",
       "      <td>0.987000</td>\n",
       "      <td>0.999000</td>\n",
       "      <td>-0.003004</td>\n",
       "      <td>11.000000</td>\n",
       "      <td>0.986000</td>\n",
       "      <td>1.585000</td>\n",
       "      <td>1.000000</td>\n",
       "      <td>-0.060925</td>\n",
       "      <td>242.318000</td>\n",
       "      <td>89.192146</td>\n",
       "      <td>0.984000</td>\n",
       "      <td>4.062953</td>\n",
       "    </tr>\n",
       "  </tbody>\n",
       "</table>\n",
       "</div>"
      ],
      "text/plain": [
       "       song_popularity  acousticness  danceability        energy  \\\n",
       "count     18835.000000  18835.000000  18835.000000  18835.000000   \n",
       "mean         52.991877     -1.648372      0.633348      0.644995   \n",
       "std          21.905654      1.029770      0.156723      0.214101   \n",
       "min           0.000000     -3.958525      0.000000      0.001070   \n",
       "25%          40.000000     -2.447523      0.533000      0.510000   \n",
       "50%          56.000000     -1.598013      0.645000      0.674000   \n",
       "75%          69.000000     -0.774195      0.748000      0.815000   \n",
       "max         100.000000     -0.004006      0.987000      0.999000   \n",
       "\n",
       "       instrumentalness           key      liveness      loudness  \\\n",
       "count      18835.000000  18835.000000  18835.000000  18835.000000   \n",
       "mean         -21.708490      5.289196      0.179650     -7.447435   \n",
       "std           13.468143      3.614595      0.143984      3.827831   \n",
       "min          -35.674188      0.000000      0.010900    -38.768000   \n",
       "25%          -35.674188      2.000000      0.092900     -9.044000   \n",
       "50%          -24.142955      5.000000      0.122000     -6.555000   \n",
       "75%           -8.737671      8.000000      0.221000     -4.908000   \n",
       "max           -0.003004     11.000000      0.986000      1.585000   \n",
       "\n",
       "         audio_mode   speechiness         tempo  time_signature  \\\n",
       "count  18835.000000  18835.000000  18835.000000    18835.000000   \n",
       "mean       0.628139     -2.893215    121.073154       39.306755   \n",
       "std        0.483314      0.930344     28.714456        7.970242   \n",
       "min        0.000000    -21.814146      0.000000       -0.278891   \n",
       "25%        0.000000     -3.630221     98.368000       39.918617   \n",
       "50%        1.000000     -3.165581    120.013000       39.918617   \n",
       "75%        1.000000     -2.274877    139.931000       39.918617   \n",
       "max        1.000000     -0.060925    242.318000       89.192146   \n",
       "\n",
       "       audio_valence  song_duration_min  \n",
       "count   18835.000000       18835.000000  \n",
       "mean        0.527967           1.346259  \n",
       "std         0.244632           0.289508  \n",
       "min         0.000000          -1.484638  \n",
       "25%         0.335000           1.188999  \n",
       "50%         0.527000           1.343101  \n",
       "75%         0.725000           1.502336  \n",
       "max         0.984000           4.062953  "
      ]
     },
     "execution_count": 6,
     "metadata": {},
     "output_type": "execute_result"
    }
   ],
   "source": [
    "song_data.describe()"
   ]
  },
  {
   "cell_type": "markdown",
   "metadata": {},
   "source": [
    "# Train-test split"
   ]
  },
  {
   "cell_type": "code",
   "execution_count": 7,
   "metadata": {},
   "outputs": [
    {
     "name": "stdout",
     "output_type": "stream",
     "text": [
      "X_train shape: (13184, 13)\n",
      "y_train shape: (13184,)\n",
      "X_test shape: (5651, 13)\n",
      "y_test shape: (5651,)\n"
     ]
    }
   ],
   "source": [
    "#Training and test sets\n",
    "X = song_data.drop('song_popularity', axis = 1)\n",
    "y = song_data.song_popularity\n",
    "\n",
    "X_train, X_test, y_train, y_test = train_test_split(X, y, test_size = 0.3, random_state = 23)\n",
    "print('X_train shape: ' + str(X_train.shape))\n",
    "print('y_train shape: ' + str(y_train.shape))\n",
    "print('X_test shape: ' + str(X_test.shape))\n",
    "print('y_test shape: ' + str(y_test.shape))"
   ]
  },
  {
   "cell_type": "markdown",
   "metadata": {},
   "source": [
    "# Lasso Regression"
   ]
  },
  {
   "cell_type": "code",
   "execution_count": 8,
   "metadata": {},
   "outputs": [],
   "source": [
    "#Model definition\n",
    "lasso_ = Lasso(max_iter = 1000)\n",
    "\n",
    "lasso_params = {'alpha': [1e-15, 1e-10, 1e-8, 1e-5,1e-4, 1e-3,1e-2, 1, 5, 10]}\n",
    "\n",
    "#Gridsearch cross-validation \n",
    "lasso_model = GridSearchCV(lasso_, param_grid = lasso_params, scoring = 'neg_mean_squared_error', cv = 5)\n",
    "lasso_model.fit(X_train, y_train)\n",
    "lasso_preds_train = lasso_model.predict(X_train)\n",
    "lasso_preds_test = lasso_model.predict(X_test)"
   ]
  },
  {
   "cell_type": "code",
   "execution_count": 9,
   "metadata": {},
   "outputs": [
    {
     "name": "stdout",
     "output_type": "stream",
     "text": [
      "Best Params: {'alpha': 0.01}\n",
      "Best Score: 453.1598275046737\n"
     ]
    }
   ],
   "source": [
    "#Best Params/score\n",
    "print('Best Params: ' + str(lasso_model.best_params_))\n",
    "print('Best Score: ' + str(abs(lasso_model.best_score_)))"
   ]
  },
  {
   "cell_type": "code",
   "execution_count": 11,
   "metadata": {},
   "outputs": [
    {
     "data": {
      "image/png": "[encoded data removed]",
      "text/plain": [
       "<Figure size 432x288 with 1 Axes>"
      ]
     },
     "metadata": {
      "needs_background": "light"
     },
     "output_type": "display_data"
    }
   ],
   "source": [
    "#Train probability Plot\n",
    "lasso_res = y_train - lasso_preds_train\n",
    "measurements = np.random.normal(loc = 20, scale = 5, size=100)   \n",
    "stats.probplot(lasso_res, dist=\"norm\", plot=pylab)\n",
    "pylab.show()"
   ]
  },
  {
   "cell_type": "code",
   "execution_count": 12,
   "metadata": {},
   "outputs": [
    {
     "data": {
      "image/png": "[encoded data removed]",
      "text/plain": [
       "<Figure size 432x288 with 1 Axes>"
      ]
     },
     "metadata": {
      "needs_background": "light"
     },
     "output_type": "display_data"
    }
   ],
   "source": [
    "#Test probability Plot\n",
    "lasso_res = y_test - lasso_preds_test\n",
    "measurements = np.random.normal(loc = 20, scale = 5, size=100)   \n",
    "stats.probplot(lasso_res, dist=\"norm\", plot=pylab)\n",
    "pylab.show()"
   ]
  },
  {
   "cell_type": "code",
   "execution_count": 13,
   "metadata": {},
   "outputs": [
    {
     "name": "stdout",
     "output_type": "stream",
     "text": [
      "Train Root Mean Square Error: 21.243822766113688\n",
      "Test Root Mean Square Error: 21.302226282612086\n"
     ]
    },
    {
     "data": {
      "image/png": "[encoded data removed]",
      "text/plain": [
       "<Figure size 432x288 with 1 Axes>"
      ]
     },
     "metadata": {
      "needs_background": "light"
     },
     "output_type": "display_data"
    }
   ],
   "source": [
    "#Prediction on test set/plot predicted vs. actuals\n",
    "plt.scatter(y_test, lasso_preds_test)\n",
    "plt.xlabel('Actuals')\n",
    "plt.ylabel('Predicted')\n",
    "#Train RMSE\n",
    "train_rmse = sqrt(mean_squared_error(y_train, lasso_preds_train))\n",
    "#Test RMSE\n",
    "test_rmse = sqrt(mean_squared_error(y_test, lasso_preds_test)) \n",
    "print('Train Root Mean Square Error: ' + str(train_rmse))\n",
    "print('Test Root Mean Square Error: ' + str(test_rmse))"
   ]
  }
 ],
 "metadata": {
  "kernelspec": {
   "display_name": "Python 3",
   "language": "python",
   "name": "python3"
  },
  "language_info": {
   "codemirror_mode": {
    "name": "ipython",
    "version": 3
   },
   "file_extension": ".py",
   "mimetype": "text/x-python",
   "name": "python",
   "nbconvert_exporter": "python",
   "pygments_lexer": "ipython3",
   "version": "3.7.0"
  }
 },
 "nbformat": 4,
 "nbformat_minor": 2
}
